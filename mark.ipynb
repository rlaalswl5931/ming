{
 "cells": [
  {
   "cell_type": "code",
   "execution_count": null,
   "metadata": {},
   "outputs": [],
   "source": []
  },
  {
   "cell_type": "markdown",
   "metadata": {},
   "source": [
    "제목\n",
    "=========\n",
    "\n",
    "부제목\n",
    "---------\n",
    "\n",
    "# h1\n",
    "#### h2\n",
    "###### h6\n",
    "\n",
    "\n",
    "> content1\n",
    "> > content2\n",
    "> > > content3"
   ]
  },
  {
   "cell_type": "markdown",
   "metadata": {},
   "source": [
    "## list\n",
    "1. 첫번째\n",
    "2. 두번째\n",
    "3. 세번째\n",
    "\n",
    "* 리스트1\n",
    "    * 리스트2\n",
    "        * 리스트3"
   ]
  },
  {
   "cell_type": "markdown",
   "metadata": {},
   "source": [
    "### code\n",
    "\n",
    "```python\n",
    "i = 0\n",
    "i + 1\n",
    "print(i)\n",
    "```\n",
    "\n",
    "code end\n"
   ]
  },
  {
   "cell_type": "markdown",
   "metadata": {},
   "source": [
    "-----------------------------------------------\n",
    "*********************************************\n"
   ]
  },
  {
   "cell_type": "markdown",
   "metadata": {},
   "source": [
    "[Google][googlelink]\n",
    "\n",
    "[googlelink]: https://www.google.com"
   ]
  },
  {
   "cell_type": "markdown",
   "metadata": {},
   "source": [
    "![Alt text](https://search.pstatic.net/common/?src=http%3A%2F%2Fblogfiles.naver.net%2FMjAyMjAzMzFfNjMg%2FMDAxNjQ4NzA5NTEzNjQz.9fqO8mNDHLws9AkxRYkrkhww85ak0UTSu5uZesI8x-Mg.owUnFPujTZ0l0gyZqWFpvpE6Hq4aYXdPMMYxb14jDpQg.JPEG.uniah3%2F20220331_155020.jpg&type=sc960_832)\n",
    "\n",
    "<img src=\"https://search.pstatic.net/common/?src=http%3A%2F%2Fblogfiles.naver.net%2FMjAyMjAzMzFfNjMg%2FMDAxNjQ4NzA5NTEzNjQz.9fqO8mNDHLws9AkxRYkrkhww85ak0UTSu5uZesI8x-Mg.owUnFPujTZ0l0gyZqWFpvpE6Hq4aYXdPMMYxb14jDpQg.JPEG.uniah3%2F20220331_155020.jpg&type=sc960_832\" width=\"40%\">"
   ]
  },
  {
   "cell_type": "markdown",
   "metadata": {},
   "source": []
  }
 ],
 "metadata": {
  "language_info": {
   "name": "python"
  },
  "orig_nbformat": 4
 },
 "nbformat": 4,
 "nbformat_minor": 2
}
